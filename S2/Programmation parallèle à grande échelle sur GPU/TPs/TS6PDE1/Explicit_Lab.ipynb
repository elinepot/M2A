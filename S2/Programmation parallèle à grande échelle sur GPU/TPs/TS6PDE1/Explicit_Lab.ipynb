{
 "cells": [
  {
   "cell_type": "markdown",
   "id": "77a4b902",
   "metadata": {},
   "source": [
    "Massive parallel programming on GPUs and applications, by Lokman ABBAS TURKI  \n",
    "\n",
    "# 6 Explicit simulation scheme for Black and Scholes Partial Differential Equation\n",
    "\n",
    "## 6.1 Objective\n",
    "\n",
    "This is the first lab of a series of four labs dedicated to the simulation of Parabolic Partial Differential equations using discretization schemes. We start with the simplest situation where we use the explicit scheme with global memory. Even with this simple example, multiple optimizations can be considered to reduce the execution time. These optimizations will be implemented step by step starting with the naive implementation of PDE_diff_k1 much improved in PDE_diff_k2 which is also improved in PDE_diff_k3. In addition to kernels, students need only to comment or to uncomment three lines in the wrapper function + CPU2GPU end GPU2CPU memory transfer. Neither the main function nor the NP function should be modified.\n",
    "\n",
    "As usual, do not forget to use CUDA documentation, especially:\n",
    "\n",
    "1) the specifications of CUDA API functions within the [CUDA_Runtime_API](https://docs.nvidia.com/cuda/cuda-runtime-api/index.html).\n",
    "2) the examples of how to use the CUDA API functions in [CUDA_C_Programming_Guide](https://docs.nvidia.com/cuda/cuda-c-programming-guide/index.html)\n"
   ]
  },
  {
   "cell_type": "markdown",
   "id": "683675c3-4e12-4638-9c69-bda98b3bdf48",
   "metadata": {},
   "source": [
    "## 6.2 Content\n",
    "\n",
    "Compile PDE.cu using"
   ]
  },
  {
   "cell_type": "code",
   "execution_count": null,
   "id": "a2d6fdf8",
   "metadata": {},
   "outputs": [],
   "source": [
    "!nvcc PDE.cu -o PDE"
   ]
  },
  {
   "cell_type": "markdown",
   "id": "273966c6",
   "metadata": {},
   "source": [
    "Execute PDE using (on Microsoft Windows OS ./ is not needed)"
   ]
  },
  {
   "cell_type": "code",
   "execution_count": null,
   "id": "bc6c946a",
   "metadata": {},
   "outputs": [],
   "source": [
    "!./PDE"
   ]
  },
  {
   "cell_type": "markdown",
   "id": "6697bcea",
   "metadata": {},
   "source": [
    "As long as you did not include any additional instruction in the file PDE.cu, the execution above is supposed to return incorrect values on the left column. The right column is supposed to contain the true results that we should approximate with the discretization scheme.\n",
    "\n",
    "\n",
    "### 6.2.1 PDE_diff_k1 and memory copy\n",
    "\n",
    "In a lecture video and slides, we showed the implementation of the explicit scheme on the host. PDE_diff_k1 will be the kernel that executes one step of the time induction on the device. The time loop has to stay on the host calling N times the kernel PDE_diff_k1.\n",
    "\n",
    "a) Justify the allocation of 2*sizeof(MyTab) for the array on the device.\n",
    "\n",
    "b) Write the necessary code for CPU2GPU and GPU2CPU memory copy.\n",
    "\n",
    "c) Inspired by the host solution from slides, complete the syntax of the kernel PDE_diff_k1.\n",
    "\n",
    "\n",
    "### 6.2.2 PDE_diff_k2\n",
    "\n",
    "In this optimization step, we put the time for loop in the kernel PDE_diff_k2.\n",
    "\n",
    "a) Complete the syntax of the kernel PDE_diff_k2.\n",
    "\n",
    "b) Compare the execution time of the solution involving PDE_diff_k2 to the one involving PDE_diff_k1 using !nvprof ./PDE.\n",
    "\n",
    "\n",
    "### 6.2.3 PDE_diff_k3\n",
    "\n",
    "In this optimization step, we propose to remove the if statement in the kernel PDE_diff_k3 and impose the limit conditions differently.\n",
    "\n",
    "a) Complete the syntax of the kernel PDE_diff_k3.\n",
    "\n",
    "b) Compare the execution time of the solution involving PDE_diff_k3 to the one involving PDE_diff_k2 using !nvprof ./PDE.\n"
   ]
  },
  {
   "cell_type": "code",
   "execution_count": null,
   "id": "7fffced9-8f0d-4c5d-bed0-9908fbe43464",
   "metadata": {},
   "outputs": [],
   "source": []
  }
 ],
 "metadata": {
  "kernelspec": {
   "display_name": "Python 3 (ipykernel)",
   "language": "python",
   "name": "python3"
  },
  "language_info": {
   "codemirror_mode": {
    "name": "ipython",
    "version": 3
   },
   "file_extension": ".py",
   "mimetype": "text/x-python",
   "name": "python",
   "nbconvert_exporter": "python",
   "pygments_lexer": "ipython3",
   "version": "3.8.18"
  }
 },
 "nbformat": 4,
 "nbformat_minor": 5
}
