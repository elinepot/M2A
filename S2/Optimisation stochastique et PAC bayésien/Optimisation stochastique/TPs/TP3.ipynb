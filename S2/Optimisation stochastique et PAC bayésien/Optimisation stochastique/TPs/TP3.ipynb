{
 "cells": [
  {
   "cell_type": "code",
   "execution_count": 1,
   "metadata": {},
   "outputs": [],
   "source": [
    "import numpy as np\n",
    "import random as r\n",
    "import numpy.random as nr\n",
    "import matplotlib.pyplot as plt\n",
    "import pandas as pd"
   ]
  },
  {
   "cell_type": "code",
   "execution_count": 48,
   "metadata": {},
   "outputs": [],
   "source": [
    "# Init\n",
    "np.random.seed(0)\n",
    "r.seed(0)\n",
    "theta = [-2,-1,0,1,2]\n",
    "X = np.random.multivariate_normal(np.zeros(5), np.eye(5), size=10000)\n",
    "eps = np.random.normal(0, 1, 10000)\n",
    "y = X @ theta + eps"
   ]
  },
  {
   "cell_type": "code",
   "execution_count": 70,
   "metadata": {},
   "outputs": [
    {
     "name": "stderr",
     "output_type": "stream",
     "text": [
      "C:\\Users\\eline\\AppData\\Local\\Temp\\ipykernel_15844\\2629491468.py:5: RuntimeWarning: overflow encountered in matmul\n",
      "  return (inv_H @ ((Y - X @ theta)*X))\n",
      "C:\\Users\\eline\\AppData\\Local\\Temp\\ipykernel_15844\\2629491468.py:2: RuntimeWarning: overflow encountered in matmul\n",
      "  return inv_H + (1/(1 + X.T @ inv_H @ X))*(inv_H @ X) @ (X.T @ inv_H)\n"
     ]
    },
    {
     "data": {
      "text/plain": [
       "array([nan, nan, nan, nan, nan])"
      ]
     },
     "execution_count": 70,
     "metadata": {},
     "output_type": "execute_result"
    }
   ],
   "source": [
    "def update_inv_hessian(inv_H, X):\n",
    "    return inv_H + (1/(1 + X.T @ inv_H @ X))*(inv_H @ X) @ (X.T @ inv_H) \n",
    "\n",
    "def update_theta(theta, inv_H, Y, X):\n",
    "    return (inv_H @ ((Y - X @ theta)*X))\n",
    "\n",
    "def stochastic_newton(theta, lam, X, y):\n",
    "    inv_H = lam * np.eye(5)\n",
    "    n = len(X)\n",
    "    for i in range(n):\n",
    "        theta = update_theta(theta, inv_H, y[i], X[i])\n",
    "        inv_H = update_inv_hessian(inv_H, X[i])\n",
    "    return theta\n",
    "\n",
    "stochastic_newton(np.zeros(5), 1, X, y)"
   ]
  }
 ],
 "metadata": {
  "kernelspec": {
   "display_name": "venv",
   "language": "python",
   "name": "python3"
  },
  "language_info": {
   "codemirror_mode": {
    "name": "ipython",
    "version": 3
   },
   "file_extension": ".py",
   "mimetype": "text/x-python",
   "name": "python",
   "nbconvert_exporter": "python",
   "pygments_lexer": "ipython3",
   "version": "3.11.4"
  }
 },
 "nbformat": 4,
 "nbformat_minor": 2
}
